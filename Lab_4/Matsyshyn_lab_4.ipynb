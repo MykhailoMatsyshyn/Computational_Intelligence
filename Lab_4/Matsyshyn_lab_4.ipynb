{
 "cells": [
  {
   "cell_type": "markdown",
   "metadata": {},
   "source": [
    "# 📌 Лабораторна робота №4\n",
    "## Основи нейронних мереж: побудова та навчання перцептрона\n",
    "\n",
    "**Мета** Ознайомитись з поняттями штучних нейронних мереж, їхньою\n",
    "архітектурою, принципами навчання, а також навчитися будувати та навчати\n",
    "одношаровий та багатошаровий перцептрон для задач бінарної класифікації.\n",
    "\n",
    "<br>\n",
    "\n",
    "**Виконав:** ст. гр. ОІ-31 | _Мацишин Михайло_\n",
    "\n",
    "**Прийняв:** _Лящинський Петро Борисович_"
   ]
  },
  {
   "cell_type": "markdown",
   "metadata": {},
   "source": [
    "## 1| Отримання та підготовка датасету"
   ]
  },
  {
   "cell_type": "code",
   "execution_count": 79,
   "metadata": {},
   "outputs": [
    {
     "name": "stdout",
     "output_type": "stream",
     "text": [
      "\n",
      "Кількість записів: 103\n"
     ]
    }
   ],
   "source": [
    "print(f\"\\nКількість записів: {len(df)}\")"
   ]
  },
  {
   "cell_type": "markdown",
   "metadata": {},
   "source": [
    "## 2| Визначення вхідних параметрів"
   ]
  },
  {
   "cell_type": "markdown",
   "metadata": {},
   "source": [
    "Додаємо класифікацію довжини термінів для всіх записів.\n",
    "\n",
    "**Довжина термінів:** Обчислюємо кількість слів у кожному записі для колонок Expedia і Booking.\n",
    "\n",
    "**Класифікація:** Застосовуємо правила (≤3 — короткий, 4-5 — середній, >5 — довгий) до всіх 103 записів."
   ]
  }
 ],
 "metadata": {
  "kernelspec": {
   "display_name": "Python 3",
   "language": "python",
   "name": "python3"
  },
  "language_info": {
   "codemirror_mode": {
    "name": "ipython",
    "version": 3
   },
   "file_extension": ".py",
   "mimetype": "text/x-python",
   "name": "python",
   "nbconvert_exporter": "python",
   "pygments_lexer": "ipython3",
   "version": "3.11.5"
  }
 },
 "nbformat": 4,
 "nbformat_minor": 2
}
